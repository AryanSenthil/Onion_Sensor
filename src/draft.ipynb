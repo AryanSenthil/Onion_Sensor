{
 "cells": [
  {
   "cell_type": "code",
   "execution_count": 1,
   "id": "b948e535",
   "metadata": {},
   "outputs": [
    {
     "name": "stderr",
     "output_type": "stream",
     "text": [
      "2025-10-31 08:40:05.920765: I tensorflow/core/platform/cpu_feature_guard.cc:210] This TensorFlow binary is optimized to use available CPU instructions in performance-critical operations.\n",
      "To enable the following instructions: AVX2 FMA, in other operations, rebuild TensorFlow with the appropriate compiler flags.\n"
     ]
    }
   ],
   "source": [
    "import pathlib\n",
    "from pathlib import Path\n",
    "import json\n",
    "import numpy as np\n",
    "import tensorflow as tf\n",
    "\n",
    "from classification_module import (\n",
    "    preprocess_csv_to_wav,\n",
    "    load_and_preprocess_data,\n",
    "    build_and_compile_model,\n",
    "    train_and_evaluate_model,\n",
    "    create_export_model\n",
    ")"
   ]
  },
  {
   "cell_type": "code",
   "execution_count": 2,
   "id": "a3ddb919",
   "metadata": {},
   "outputs": [],
   "source": [
    "# Configuration\n",
    "MODEL_NAME = \"classification_model\"\n",
    "CSV_DIR = r\"/home/ari/Documents/Onion_Sensor/data\"\n",
    "SAMPLING_RATE = 1600\n",
    "VALIDATION_SPLIT = 0.2\n",
    "LEARNING_RATE = 0.001\n",
    "EPOCHS = 10  \n",
    "PATIENCE = 2\n",
    "SEED = 42"
   ]
  },
  {
   "cell_type": "code",
   "execution_count": 3,
   "id": "45fc0e79",
   "metadata": {},
   "outputs": [
    {
     "name": "stderr",
     "output_type": "stream",
     "text": [
      "WARNING: All log messages before absl::InitializeLog() is called are written to STDERR\n",
      "I0000 00:00:1761918009.541027   46881 gpu_device.cc:2020] Created device /job:localhost/replica:0/task:0/device:GPU:0 with 2787 MB memory:  -> device: 0, name: NVIDIA GeForce GTX 1650 Ti, pci bus id: 0000:01:00.0, compute capability: 7.5\n",
      "✓ WAV files: /home/ari/Documents/Onion_Sensor/models/classification_model/wave_files/wave_files\n",
      "✓ Preprocessing complete: 1.1s\n"
     ]
    }
   ],
   "source": [
    "preprocess_csv_to_wav(\n",
    "        csv_dir=CSV_DIR,\n",
    "        model_name=MODEL_NAME,\n",
    "        sampling_rate=SAMPLING_RATE\n",
    "    )"
   ]
  },
  {
   "cell_type": "code",
   "execution_count": 4,
   "id": "3eda0146",
   "metadata": {},
   "outputs": [
    {
     "name": "stdout",
     "output_type": "stream",
     "text": [
      "Found 144 files belonging to 2 classes.\n",
      "Using 116 files for training.\n",
      "Using 28 files for validation.\n"
     ]
    },
    {
     "name": "stderr",
     "output_type": "stream",
     "text": [
      "✓ Dataset metadata: /home/ari/Documents/Onion_Sensor/models/classification_model/metadata/dataset_info.json\n",
      "✓ Data preprocessing complete: 1.6s\n"
     ]
    }
   ],
   "source": [
    "load_and_preprocess_data(\n",
    "        model_name=MODEL_NAME,\n",
    "        validation_split=VALIDATION_SPLIT,\n",
    "        seed=SEED\n",
    "    )"
   ]
  },
  {
   "cell_type": "code",
   "execution_count": 5,
   "id": "057272f6",
   "metadata": {},
   "outputs": [
    {
     "name": "stderr",
     "output_type": "stream",
     "text": [
      "✓ Model built: /home/ari/Documents/Onion_Sensor/models/classification_model/models/untrained/model.keras\n",
      "✓ Model build complete: 0.7s\n"
     ]
    }
   ],
   "source": [
    "build_and_compile_model(\n",
    "        model_name=MODEL_NAME,\n",
    "        learning_rate=LEARNING_RATE\n",
    "    ) "
   ]
  },
  {
   "cell_type": "code",
   "execution_count": 6,
   "id": "f49c9502",
   "metadata": {},
   "outputs": [
    {
     "name": "stderr",
     "output_type": "stream",
     "text": [
      "/home/ari/Documents/Onion_Sensor/.venv/lib/python3.10/site-packages/keras/src/saving/saving_lib.py:797: UserWarning: Skipping variable loading for optimizer 'adam', because it has 18 variables whereas the saved optimizer has 2 variables. \n",
      "  saveable.load_own_variables(weights_store.get(inner_path))\n",
      "2025-10-31 08:41:28.801140: I external/local_xla/xla/service/service.cc:163] XLA service 0x7da71c0043f0 initialized for platform CUDA (this does not guarantee that XLA will be used). Devices:\n",
      "2025-10-31 08:41:28.801154: I external/local_xla/xla/service/service.cc:171]   StreamExecutor device (0): NVIDIA GeForce GTX 1650 Ti, Compute Capability 7.5\n",
      "2025-10-31 08:41:28.838105: I tensorflow/compiler/mlir/tensorflow/utils/dump_mlir_util.cc:269] disabling MLIR crash reproducer, set env var `MLIR_CRASH_REPRODUCER_DIRECTORY` to enable.\n",
      "2025-10-31 08:41:29.027955: I external/local_xla/xla/stream_executor/cuda/cuda_dnn.cc:473] Loaded cuDNN version 91400\n",
      "2025-10-31 08:41:29.528003: I external/local_xla/xla/service/gpu/autotuning/conv_algorithm_picker.cc:546] Omitted potentially buggy algorithm eng14{k25=2} for conv (f32[1,64,28,28]{3,2,1,0}, u8[0]{0}) custom-call(f32[1,32,30,30]{3,2,1,0}, f32[64,32,3,3]{3,2,1,0}, f32[64]{0}), window={size=3x3}, dim_labels=bf01_oi01->bf01, custom_call_target=\"__cudnn$convBiasActivationForward\", backend_config={\"operation_queue_id\":\"0\",\"wait_on_operation_queues\":[],\"cudnn_conv_backend_config\":{\"activation_mode\":\"kNone\",\"conv_result_scale\":1,\"side_input_scale\":0,\"leakyrelu_alpha\":0},\"force_earliest_schedule\":false,\"reification_cost\":[]}\n",
      "I0000 00:00:1761918091.112465   46969 device_compiler.h:196] Compiled cluster using XLA!  This line is logged at most once for the lifetime of the process.\n",
      "2025-10-31 08:41:31.617172: I external/local_xla/xla/service/gpu/autotuning/conv_algorithm_picker.cc:546] Omitted potentially buggy algorithm eng14{k25=2} for conv (f32[1,64,28,28]{3,2,1,0}, u8[0]{0}) custom-call(f32[1,32,30,30]{3,2,1,0}, f32[64,32,3,3]{3,2,1,0}, f32[64]{0}), window={size=3x3}, dim_labels=bf01_oi01->bf01, custom_call_target=\"__cudnn$convBiasActivationForward\", backend_config={\"operation_queue_id\":\"0\",\"wait_on_operation_queues\":[],\"cudnn_conv_backend_config\":{\"activation_mode\":\"kRelu\",\"conv_result_scale\":1,\"side_input_scale\":0,\"leakyrelu_alpha\":0},\"force_earliest_schedule\":false,\"reification_cost\":[]}\n",
      "2025-10-31 08:41:33.474478: I tensorflow/core/framework/local_rendezvous.cc:407] Local rendezvous is aborting with status: OUT_OF_RANGE: End of sequence\n",
      "✓ Trained model: /home/ari/Documents/Onion_Sensor/models/classification_model/models/trained/model.keras\n",
      "✓ Training plots: /home/ari/Documents/Onion_Sensor/models/classification_model/training/plots\n",
      "✓ Training summary: /home/ari/Documents/Onion_Sensor/models/classification_model/training/training_summary.json\n",
      "✓ Test accuracy: 71.4%\n",
      "✓ Training complete: 7.7s\n"
     ]
    }
   ],
   "source": [
    "train_and_evaluate_model(\n",
    "        model_name=MODEL_NAME,\n",
    "        epochs=EPOCHS,\n",
    "        patience=PATIENCE\n",
    "    )"
   ]
  },
  {
   "cell_type": "code",
   "execution_count": null,
   "id": "7968a494",
   "metadata": {},
   "outputs": [],
   "source": []
  }
 ],
 "metadata": {
  "kernelspec": {
   "display_name": ".venv",
   "language": "python",
   "name": "python3"
  },
  "language_info": {
   "codemirror_mode": {
    "name": "ipython",
    "version": 3
   },
   "file_extension": ".py",
   "mimetype": "text/x-python",
   "name": "python",
   "nbconvert_exporter": "python",
   "pygments_lexer": "ipython3",
   "version": "3.10.12"
  }
 },
 "nbformat": 4,
 "nbformat_minor": 5
}
